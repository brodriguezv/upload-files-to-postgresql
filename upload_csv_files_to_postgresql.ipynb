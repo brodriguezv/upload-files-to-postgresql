{
 "cells": [
  {
   "cell_type": "code",
   "execution_count": 6,
   "metadata": {},
   "outputs": [],
   "source": [
    "import os\n",
    "import psycopg2"
   ]
  },
  {
   "cell_type": "code",
   "execution_count": null,
   "metadata": {},
   "outputs": [],
   "source": [
    "# Database connection parameters\n",
    "db_params = {\n",
    "    'dbname': 'my_database', \n",
    "    'user': '<replace with your username>',\n",
    "    'password': '<replace with your password>',\n",
    "    'host': 'localhost',\n",
    "    'port': '5432'    # replace the port nubmer if yours is different\n",
    "}\n",
    "\n",
    "# This is the folder where the CSV files live\n",
    "csv_directory = r'\\path\\to\\csv\\files'\n",
    "\n",
    "# Establishing the connection to PostgreSQL\n",
    "conn = psycopg2.connect(**db_params)\n",
    "cur = conn.cursor()"
   ]
  },
  {
   "cell_type": "code",
   "execution_count": 13,
   "metadata": {},
   "outputs": [
    {
     "name": "stdout",
     "output_type": "stream",
     "text": [
      "Loaded data from transactions_1.csv successfully.\n",
      "Loaded data from transactions_2.csv successfully.\n",
      "Loaded data from transactions_3.csv successfully.\n",
      "Loaded data from transactions_4.csv successfully.\n",
      "Loaded data from transactions_5.csv successfully.\n",
      "Data uploaded successfully!\n"
     ]
    }
   ],
   "source": [
    "for filename in os.listdir(csv_directory):\n",
    "    if filename.endswith('.csv'):\n",
    "        file_path = os.path.join(csv_directory, filename)\n",
    "\n",
    "        # Use COPY command to load data from CSV into PostgreSQL table\n",
    "        copy_sql = f\"\"\"\n",
    "        COPY raw.transactions (transaction_id, transaction_date, total_sales, total_expenses, profit, store_location) \n",
    "        FROM '{file_path}'\n",
    "        WITH (FORMAT CSV, HEADER TRUE);\n",
    "        \"\"\"\n",
    "\n",
    "        try:\n",
    "            cur.execute(copy_sql)\n",
    "            print(f\"Loaded data from {filename} successfully.\")\n",
    "        except Exception as e:\n",
    "            print(f\"Failed to load {filename}: {e}\")\n",
    "\n",
    "# Commit the transaction\n",
    "conn.commit()\n",
    "\n",
    "# Close the cursor and connection\n",
    "cur.close()\n",
    "conn.close()\n",
    "\n",
    "print(\"Data uploaded successfully!\")"
   ]
  }
 ],
 "metadata": {
  "kernelspec": {
   "display_name": "Python 3",
   "language": "python",
   "name": "python3"
  },
  "language_info": {
   "codemirror_mode": {
    "name": "ipython",
    "version": 3
   },
   "file_extension": ".py",
   "mimetype": "text/x-python",
   "name": "python",
   "nbconvert_exporter": "python",
   "pygments_lexer": "ipython3",
   "version": "3.11.1"
  }
 },
 "nbformat": 4,
 "nbformat_minor": 2
}
